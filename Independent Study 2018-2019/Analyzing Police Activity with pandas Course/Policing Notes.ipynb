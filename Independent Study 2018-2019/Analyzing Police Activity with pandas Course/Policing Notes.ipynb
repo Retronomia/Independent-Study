{
 "cells": [
  {
   "cell_type": "code",
   "execution_count": 1,
   "metadata": {},
   "outputs": [
    {
     "data": {
      "text/html": [
       "<div>\n",
       "<style scoped>\n",
       "    .dataframe tbody tr th:only-of-type {\n",
       "        vertical-align: middle;\n",
       "    }\n",
       "\n",
       "    .dataframe tbody tr th {\n",
       "        vertical-align: top;\n",
       "    }\n",
       "\n",
       "    .dataframe thead th {\n",
       "        text-align: right;\n",
       "    }\n",
       "</style>\n",
       "<table border=\"1\" class=\"dataframe\">\n",
       "  <thead>\n",
       "    <tr style=\"text-align: right;\">\n",
       "      <th></th>\n",
       "      <th>id</th>\n",
       "      <th>state</th>\n",
       "      <th>stop_date</th>\n",
       "      <th>stop_time</th>\n",
       "      <th>location_raw</th>\n",
       "      <th>county_name</th>\n",
       "      <th>county_fips</th>\n",
       "      <th>fine_grained_location</th>\n",
       "      <th>police_department</th>\n",
       "      <th>driver_gender</th>\n",
       "      <th>...</th>\n",
       "      <th>search_conducted</th>\n",
       "      <th>search_type_raw</th>\n",
       "      <th>search_type</th>\n",
       "      <th>contraband_found</th>\n",
       "      <th>stop_outcome</th>\n",
       "      <th>is_arrested</th>\n",
       "      <th>stop_duration</th>\n",
       "      <th>vehicle_type</th>\n",
       "      <th>drugs_related_stop</th>\n",
       "      <th>district</th>\n",
       "    </tr>\n",
       "  </thead>\n",
       "  <tbody>\n",
       "    <tr>\n",
       "      <th>0</th>\n",
       "      <td>IL-2004-000001</td>\n",
       "      <td>IL</td>\n",
       "      <td>2004-01-01</td>\n",
       "      <td>00:02</td>\n",
       "      <td>ILLINOIS STATE POLICE 17</td>\n",
       "      <td>NaN</td>\n",
       "      <td>NaN</td>\n",
       "      <td>17</td>\n",
       "      <td>Illinois State Police</td>\n",
       "      <td>F</td>\n",
       "      <td>...</td>\n",
       "      <td>False</td>\n",
       "      <td>NaN</td>\n",
       "      <td>NaN</td>\n",
       "      <td>False</td>\n",
       "      <td>Written Warning</td>\n",
       "      <td>NaN</td>\n",
       "      <td>NaN</td>\n",
       "      <td>Olds 2000</td>\n",
       "      <td>NaN</td>\n",
       "      <td>ILLINOIS STATE POLICE 17</td>\n",
       "    </tr>\n",
       "    <tr>\n",
       "      <th>1</th>\n",
       "      <td>IL-2004-000002</td>\n",
       "      <td>IL</td>\n",
       "      <td>2004-01-01</td>\n",
       "      <td>00:07</td>\n",
       "      <td>ILLINOIS STATE POLICE 07</td>\n",
       "      <td>NaN</td>\n",
       "      <td>NaN</td>\n",
       "      <td>7</td>\n",
       "      <td>Illinois State Police</td>\n",
       "      <td>M</td>\n",
       "      <td>...</td>\n",
       "      <td>False</td>\n",
       "      <td>NaN</td>\n",
       "      <td>NaN</td>\n",
       "      <td>False</td>\n",
       "      <td>Written Warning</td>\n",
       "      <td>NaN</td>\n",
       "      <td>NaN</td>\n",
       "      <td>Linc 1990</td>\n",
       "      <td>NaN</td>\n",
       "      <td>ILLINOIS STATE POLICE 07</td>\n",
       "    </tr>\n",
       "    <tr>\n",
       "      <th>2</th>\n",
       "      <td>IL-2004-000003</td>\n",
       "      <td>IL</td>\n",
       "      <td>2004-01-01</td>\n",
       "      <td>00:14</td>\n",
       "      <td>ILLINOIS STATE POLICE 11</td>\n",
       "      <td>NaN</td>\n",
       "      <td>NaN</td>\n",
       "      <td>11</td>\n",
       "      <td>Illinois State Police</td>\n",
       "      <td>M</td>\n",
       "      <td>...</td>\n",
       "      <td>False</td>\n",
       "      <td>NaN</td>\n",
       "      <td>NaN</td>\n",
       "      <td>False</td>\n",
       "      <td>Citation</td>\n",
       "      <td>NaN</td>\n",
       "      <td>NaN</td>\n",
       "      <td>Chev 1996</td>\n",
       "      <td>NaN</td>\n",
       "      <td>ILLINOIS STATE POLICE 11</td>\n",
       "    </tr>\n",
       "    <tr>\n",
       "      <th>3</th>\n",
       "      <td>IL-2004-000004</td>\n",
       "      <td>IL</td>\n",
       "      <td>2004-01-01</td>\n",
       "      <td>00:15</td>\n",
       "      <td>ILLINOIS STATE POLICE 03</td>\n",
       "      <td>Cook County</td>\n",
       "      <td>17031.0</td>\n",
       "      <td>3</td>\n",
       "      <td>Illinois State Police</td>\n",
       "      <td>F</td>\n",
       "      <td>...</td>\n",
       "      <td>False</td>\n",
       "      <td>NaN</td>\n",
       "      <td>NaN</td>\n",
       "      <td>False</td>\n",
       "      <td>Citation</td>\n",
       "      <td>NaN</td>\n",
       "      <td>NaN</td>\n",
       "      <td>Buic 1992</td>\n",
       "      <td>NaN</td>\n",
       "      <td>ILLINOIS STATE POLICE 03</td>\n",
       "    </tr>\n",
       "    <tr>\n",
       "      <th>4</th>\n",
       "      <td>IL-2004-000005</td>\n",
       "      <td>IL</td>\n",
       "      <td>2004-01-01</td>\n",
       "      <td>00:15</td>\n",
       "      <td>ILLINOIS STATE POLICE 09</td>\n",
       "      <td>NaN</td>\n",
       "      <td>NaN</td>\n",
       "      <td>9</td>\n",
       "      <td>Illinois State Police</td>\n",
       "      <td>F</td>\n",
       "      <td>...</td>\n",
       "      <td>False</td>\n",
       "      <td>NaN</td>\n",
       "      <td>NaN</td>\n",
       "      <td>False</td>\n",
       "      <td>Citation</td>\n",
       "      <td>NaN</td>\n",
       "      <td>NaN</td>\n",
       "      <td>Olds 1996</td>\n",
       "      <td>NaN</td>\n",
       "      <td>ILLINOIS STATE POLICE 09</td>\n",
       "    </tr>\n",
       "  </tbody>\n",
       "</table>\n",
       "<p>5 rows × 26 columns</p>\n",
       "</div>"
      ],
      "text/plain": [
       "               id state   stop_date stop_time              location_raw  \\\n",
       "0  IL-2004-000001    IL  2004-01-01     00:02  ILLINOIS STATE POLICE 17   \n",
       "1  IL-2004-000002    IL  2004-01-01     00:07  ILLINOIS STATE POLICE 07   \n",
       "2  IL-2004-000003    IL  2004-01-01     00:14  ILLINOIS STATE POLICE 11   \n",
       "3  IL-2004-000004    IL  2004-01-01     00:15  ILLINOIS STATE POLICE 03   \n",
       "4  IL-2004-000005    IL  2004-01-01     00:15  ILLINOIS STATE POLICE 09   \n",
       "\n",
       "   county_name  county_fips  fine_grained_location      police_department  \\\n",
       "0          NaN          NaN                     17  Illinois State Police   \n",
       "1          NaN          NaN                      7  Illinois State Police   \n",
       "2          NaN          NaN                     11  Illinois State Police   \n",
       "3  Cook County      17031.0                      3  Illinois State Police   \n",
       "4          NaN          NaN                      9  Illinois State Police   \n",
       "\n",
       "  driver_gender            ...             search_conducted  search_type_raw  \\\n",
       "0             F            ...                        False              NaN   \n",
       "1             M            ...                        False              NaN   \n",
       "2             M            ...                        False              NaN   \n",
       "3             F            ...                        False              NaN   \n",
       "4             F            ...                        False              NaN   \n",
       "\n",
       "  search_type contraband_found     stop_outcome is_arrested  stop_duration  \\\n",
       "0         NaN            False  Written Warning         NaN            NaN   \n",
       "1         NaN            False  Written Warning         NaN            NaN   \n",
       "2         NaN            False         Citation         NaN            NaN   \n",
       "3         NaN            False         Citation         NaN            NaN   \n",
       "4         NaN            False         Citation         NaN            NaN   \n",
       "\n",
       "  vehicle_type drugs_related_stop                  district  \n",
       "0    Olds 2000                NaN  ILLINOIS STATE POLICE 17  \n",
       "1    Linc 1990                NaN  ILLINOIS STATE POLICE 07  \n",
       "2    Chev 1996                NaN  ILLINOIS STATE POLICE 11  \n",
       "3    Buic 1992                NaN  ILLINOIS STATE POLICE 03  \n",
       "4    Olds 1996                NaN  ILLINOIS STATE POLICE 09  \n",
       "\n",
       "[5 rows x 26 columns]"
      ]
     },
     "execution_count": 1,
     "metadata": {},
     "output_type": "execute_result"
    }
   ],
   "source": [
    "import pandas as pd\n",
    "police = pd.read_csv('Il-clean.csv.gz', nrows=500, compression='gzip',\n",
    "                   error_bad_lines=False)\n",
    "police.head()"
   ]
  },
  {
   "cell_type": "code",
   "execution_count": 2,
   "metadata": {},
   "outputs": [],
   "source": [
    "police.isnull().sum()\n",
    "#counts missing values\n",
    "police.drop('county_name',axis='columns', inplace=True)"
   ]
  },
  {
   "cell_type": "code",
   "execution_count": 3,
   "metadata": {},
   "outputs": [
    {
     "data": {
      "text/plain": [
       "id                        object\n",
       "state                     object\n",
       "stop_date                 object\n",
       "stop_time                 object\n",
       "location_raw              object\n",
       "county_fips              float64\n",
       "fine_grained_location      int64\n",
       "police_department         object\n",
       "driver_gender             object\n",
       "driver_age_raw           float64\n",
       "driver_age               float64\n",
       "driver_race_raw           object\n",
       "driver_race               object\n",
       "violation_raw             object\n",
       "violation                 object\n",
       "search_conducted            bool\n",
       "search_type_raw           object\n",
       "search_type               object\n",
       "contraband_found            bool\n",
       "stop_outcome              object\n",
       "is_arrested              float64\n",
       "stop_duration            float64\n",
       "vehicle_type              object\n",
       "drugs_related_stop        object\n",
       "district                  object\n",
       "dtype: object"
      ]
     },
     "execution_count": 3,
     "metadata": {},
     "output_type": "execute_result"
    }
   ],
   "source": [
    "police.dropna(subset=['stop_date','stop_time'], inplace = True)\n",
    "#dropping column if missing info\n",
    "police.dtypes\n",
    "#states datatypes"
   ]
  },
  {
   "cell_type": "code",
   "execution_count": 4,
   "metadata": {},
   "outputs": [],
   "source": [
    "#police['stop_date'] = police.stop_date.astype('datetime')\n",
    "combined = police.stop_date.str.cat(police.stop_time, sep = ' ')\n",
    "#makes series object with two values, is ready for datetime\n",
    "police['date_and_time'] = pd.to_datetime(combined)"
   ]
  },
  {
   "cell_type": "code",
   "execution_count": 5,
   "metadata": {},
   "outputs": [
    {
     "data": {
      "text/html": [
       "<div>\n",
       "<style scoped>\n",
       "    .dataframe tbody tr th:only-of-type {\n",
       "        vertical-align: middle;\n",
       "    }\n",
       "\n",
       "    .dataframe tbody tr th {\n",
       "        vertical-align: top;\n",
       "    }\n",
       "\n",
       "    .dataframe thead th {\n",
       "        text-align: right;\n",
       "    }\n",
       "</style>\n",
       "<table border=\"1\" class=\"dataframe\">\n",
       "  <thead>\n",
       "    <tr style=\"text-align: right;\">\n",
       "      <th></th>\n",
       "      <th>id</th>\n",
       "      <th>state</th>\n",
       "      <th>stop_date</th>\n",
       "      <th>stop_time</th>\n",
       "      <th>location_raw</th>\n",
       "      <th>county_fips</th>\n",
       "      <th>fine_grained_location</th>\n",
       "      <th>police_department</th>\n",
       "      <th>driver_gender</th>\n",
       "      <th>driver_age_raw</th>\n",
       "      <th>...</th>\n",
       "      <th>search_conducted</th>\n",
       "      <th>search_type_raw</th>\n",
       "      <th>search_type</th>\n",
       "      <th>contraband_found</th>\n",
       "      <th>stop_outcome</th>\n",
       "      <th>is_arrested</th>\n",
       "      <th>stop_duration</th>\n",
       "      <th>vehicle_type</th>\n",
       "      <th>drugs_related_stop</th>\n",
       "      <th>district</th>\n",
       "    </tr>\n",
       "    <tr>\n",
       "      <th>date_and_time</th>\n",
       "      <th></th>\n",
       "      <th></th>\n",
       "      <th></th>\n",
       "      <th></th>\n",
       "      <th></th>\n",
       "      <th></th>\n",
       "      <th></th>\n",
       "      <th></th>\n",
       "      <th></th>\n",
       "      <th></th>\n",
       "      <th></th>\n",
       "      <th></th>\n",
       "      <th></th>\n",
       "      <th></th>\n",
       "      <th></th>\n",
       "      <th></th>\n",
       "      <th></th>\n",
       "      <th></th>\n",
       "      <th></th>\n",
       "      <th></th>\n",
       "      <th></th>\n",
       "    </tr>\n",
       "  </thead>\n",
       "  <tbody>\n",
       "    <tr>\n",
       "      <th>2004-01-01 00:02:00</th>\n",
       "      <td>IL-2004-000001</td>\n",
       "      <td>IL</td>\n",
       "      <td>2004-01-01</td>\n",
       "      <td>00:02</td>\n",
       "      <td>ILLINOIS STATE POLICE 17</td>\n",
       "      <td>NaN</td>\n",
       "      <td>17</td>\n",
       "      <td>Illinois State Police</td>\n",
       "      <td>F</td>\n",
       "      <td>1963.0</td>\n",
       "      <td>...</td>\n",
       "      <td>False</td>\n",
       "      <td>NaN</td>\n",
       "      <td>NaN</td>\n",
       "      <td>False</td>\n",
       "      <td>Written Warning</td>\n",
       "      <td>NaN</td>\n",
       "      <td>NaN</td>\n",
       "      <td>Olds 2000</td>\n",
       "      <td>NaN</td>\n",
       "      <td>ILLINOIS STATE POLICE 17</td>\n",
       "    </tr>\n",
       "    <tr>\n",
       "      <th>2004-01-01 00:07:00</th>\n",
       "      <td>IL-2004-000002</td>\n",
       "      <td>IL</td>\n",
       "      <td>2004-01-01</td>\n",
       "      <td>00:07</td>\n",
       "      <td>ILLINOIS STATE POLICE 07</td>\n",
       "      <td>NaN</td>\n",
       "      <td>7</td>\n",
       "      <td>Illinois State Police</td>\n",
       "      <td>M</td>\n",
       "      <td>1987.0</td>\n",
       "      <td>...</td>\n",
       "      <td>False</td>\n",
       "      <td>NaN</td>\n",
       "      <td>NaN</td>\n",
       "      <td>False</td>\n",
       "      <td>Written Warning</td>\n",
       "      <td>NaN</td>\n",
       "      <td>NaN</td>\n",
       "      <td>Linc 1990</td>\n",
       "      <td>NaN</td>\n",
       "      <td>ILLINOIS STATE POLICE 07</td>\n",
       "    </tr>\n",
       "    <tr>\n",
       "      <th>2004-01-01 00:14:00</th>\n",
       "      <td>IL-2004-000003</td>\n",
       "      <td>IL</td>\n",
       "      <td>2004-01-01</td>\n",
       "      <td>00:14</td>\n",
       "      <td>ILLINOIS STATE POLICE 11</td>\n",
       "      <td>NaN</td>\n",
       "      <td>11</td>\n",
       "      <td>Illinois State Police</td>\n",
       "      <td>M</td>\n",
       "      <td>1981.0</td>\n",
       "      <td>...</td>\n",
       "      <td>False</td>\n",
       "      <td>NaN</td>\n",
       "      <td>NaN</td>\n",
       "      <td>False</td>\n",
       "      <td>Citation</td>\n",
       "      <td>NaN</td>\n",
       "      <td>NaN</td>\n",
       "      <td>Chev 1996</td>\n",
       "      <td>NaN</td>\n",
       "      <td>ILLINOIS STATE POLICE 11</td>\n",
       "    </tr>\n",
       "    <tr>\n",
       "      <th>2004-01-01 00:15:00</th>\n",
       "      <td>IL-2004-000004</td>\n",
       "      <td>IL</td>\n",
       "      <td>2004-01-01</td>\n",
       "      <td>00:15</td>\n",
       "      <td>ILLINOIS STATE POLICE 03</td>\n",
       "      <td>17031.0</td>\n",
       "      <td>3</td>\n",
       "      <td>Illinois State Police</td>\n",
       "      <td>F</td>\n",
       "      <td>1972.0</td>\n",
       "      <td>...</td>\n",
       "      <td>False</td>\n",
       "      <td>NaN</td>\n",
       "      <td>NaN</td>\n",
       "      <td>False</td>\n",
       "      <td>Citation</td>\n",
       "      <td>NaN</td>\n",
       "      <td>NaN</td>\n",
       "      <td>Buic 1992</td>\n",
       "      <td>NaN</td>\n",
       "      <td>ILLINOIS STATE POLICE 03</td>\n",
       "    </tr>\n",
       "    <tr>\n",
       "      <th>2004-01-01 00:15:00</th>\n",
       "      <td>IL-2004-000005</td>\n",
       "      <td>IL</td>\n",
       "      <td>2004-01-01</td>\n",
       "      <td>00:15</td>\n",
       "      <td>ILLINOIS STATE POLICE 09</td>\n",
       "      <td>NaN</td>\n",
       "      <td>9</td>\n",
       "      <td>Illinois State Police</td>\n",
       "      <td>F</td>\n",
       "      <td>1980.0</td>\n",
       "      <td>...</td>\n",
       "      <td>False</td>\n",
       "      <td>NaN</td>\n",
       "      <td>NaN</td>\n",
       "      <td>False</td>\n",
       "      <td>Citation</td>\n",
       "      <td>NaN</td>\n",
       "      <td>NaN</td>\n",
       "      <td>Olds 1996</td>\n",
       "      <td>NaN</td>\n",
       "      <td>ILLINOIS STATE POLICE 09</td>\n",
       "    </tr>\n",
       "  </tbody>\n",
       "</table>\n",
       "<p>5 rows × 25 columns</p>\n",
       "</div>"
      ],
      "text/plain": [
       "                                 id state   stop_date stop_time  \\\n",
       "date_and_time                                                     \n",
       "2004-01-01 00:02:00  IL-2004-000001    IL  2004-01-01     00:02   \n",
       "2004-01-01 00:07:00  IL-2004-000002    IL  2004-01-01     00:07   \n",
       "2004-01-01 00:14:00  IL-2004-000003    IL  2004-01-01     00:14   \n",
       "2004-01-01 00:15:00  IL-2004-000004    IL  2004-01-01     00:15   \n",
       "2004-01-01 00:15:00  IL-2004-000005    IL  2004-01-01     00:15   \n",
       "\n",
       "                                 location_raw  county_fips  \\\n",
       "date_and_time                                                \n",
       "2004-01-01 00:02:00  ILLINOIS STATE POLICE 17          NaN   \n",
       "2004-01-01 00:07:00  ILLINOIS STATE POLICE 07          NaN   \n",
       "2004-01-01 00:14:00  ILLINOIS STATE POLICE 11          NaN   \n",
       "2004-01-01 00:15:00  ILLINOIS STATE POLICE 03      17031.0   \n",
       "2004-01-01 00:15:00  ILLINOIS STATE POLICE 09          NaN   \n",
       "\n",
       "                     fine_grained_location      police_department  \\\n",
       "date_and_time                                                       \n",
       "2004-01-01 00:02:00                     17  Illinois State Police   \n",
       "2004-01-01 00:07:00                      7  Illinois State Police   \n",
       "2004-01-01 00:14:00                     11  Illinois State Police   \n",
       "2004-01-01 00:15:00                      3  Illinois State Police   \n",
       "2004-01-01 00:15:00                      9  Illinois State Police   \n",
       "\n",
       "                    driver_gender  driver_age_raw            ...             \\\n",
       "date_and_time                                                ...              \n",
       "2004-01-01 00:02:00             F          1963.0            ...              \n",
       "2004-01-01 00:07:00             M          1987.0            ...              \n",
       "2004-01-01 00:14:00             M          1981.0            ...              \n",
       "2004-01-01 00:15:00             F          1972.0            ...              \n",
       "2004-01-01 00:15:00             F          1980.0            ...              \n",
       "\n",
       "                     search_conducted search_type_raw search_type  \\\n",
       "date_and_time                                                       \n",
       "2004-01-01 00:02:00             False             NaN         NaN   \n",
       "2004-01-01 00:07:00             False             NaN         NaN   \n",
       "2004-01-01 00:14:00             False             NaN         NaN   \n",
       "2004-01-01 00:15:00             False             NaN         NaN   \n",
       "2004-01-01 00:15:00             False             NaN         NaN   \n",
       "\n",
       "                    contraband_found     stop_outcome  is_arrested  \\\n",
       "date_and_time                                                        \n",
       "2004-01-01 00:02:00            False  Written Warning          NaN   \n",
       "2004-01-01 00:07:00            False  Written Warning          NaN   \n",
       "2004-01-01 00:14:00            False         Citation          NaN   \n",
       "2004-01-01 00:15:00            False         Citation          NaN   \n",
       "2004-01-01 00:15:00            False         Citation          NaN   \n",
       "\n",
       "                    stop_duration vehicle_type  drugs_related_stop  \\\n",
       "date_and_time                                                        \n",
       "2004-01-01 00:02:00           NaN    Olds 2000                 NaN   \n",
       "2004-01-01 00:07:00           NaN    Linc 1990                 NaN   \n",
       "2004-01-01 00:14:00           NaN    Chev 1996                 NaN   \n",
       "2004-01-01 00:15:00           NaN    Buic 1992                 NaN   \n",
       "2004-01-01 00:15:00           NaN    Olds 1996                 NaN   \n",
       "\n",
       "                                     district  \n",
       "date_and_time                                  \n",
       "2004-01-01 00:02:00  ILLINOIS STATE POLICE 17  \n",
       "2004-01-01 00:07:00  ILLINOIS STATE POLICE 07  \n",
       "2004-01-01 00:14:00  ILLINOIS STATE POLICE 11  \n",
       "2004-01-01 00:15:00  ILLINOIS STATE POLICE 03  \n",
       "2004-01-01 00:15:00  ILLINOIS STATE POLICE 09  \n",
       "\n",
       "[5 rows x 25 columns]"
      ]
     },
     "execution_count": 5,
     "metadata": {},
     "output_type": "execute_result"
    }
   ],
   "source": [
    "#set datetime as index\n",
    "police.set_index('date_and_time', inplace=True)\n",
    "police.head()"
   ]
  },
  {
   "cell_type": "code",
   "execution_count": 6,
   "metadata": {},
   "outputs": [
    {
     "data": {
      "text/plain": [
       "Citation           0.638\n",
       "Written Warning    0.360\n",
       "Verbal Warning     0.002\n",
       "Name: stop_outcome, dtype: float64"
      ]
     },
     "execution_count": 6,
     "metadata": {},
     "output_type": "execute_result"
    }
   ],
   "source": [
    "#value_counts() - counts unique values in Series\n",
    "police.stop_outcome.value_counts()\n",
    "police.stop_outcome.value_counts().sum()\n",
    "#get percent of each outcome\n",
    "police.stop_outcome.value_counts(normalize=True)"
   ]
  },
  {
   "cell_type": "code",
   "execution_count": 7,
   "metadata": {},
   "outputs": [
    {
     "data": {
      "text/plain": [
       "White       355\n",
       "Black       101\n",
       "Hispanic     26\n",
       "Asian        17\n",
       "Other         1\n",
       "Name: driver_race, dtype: int64"
      ]
     },
     "execution_count": 7,
     "metadata": {},
     "output_type": "execute_result"
    }
   ],
   "source": [
    "police.driver_race.value_counts()"
   ]
  },
  {
   "cell_type": "code",
   "execution_count": 8,
   "metadata": {},
   "outputs": [
    {
     "data": {
      "text/plain": [
       "(17, 25)"
      ]
     },
     "execution_count": 8,
     "metadata": {},
     "output_type": "execute_result"
    }
   ],
   "source": [
    "white = police[police.driver_race == 'White']\n",
    "white.shape\n",
    "asian = police[police.driver_race == 'Asian']\n",
    "asian.shape"
   ]
  },
  {
   "cell_type": "code",
   "execution_count": 9,
   "metadata": {},
   "outputs": [
    {
     "data": {
      "text/plain": [
       "Citation           0.882353\n",
       "Written Warning    0.117647\n",
       "Name: stop_outcome, dtype: float64"
      ]
     },
     "execution_count": 9,
     "metadata": {},
     "output_type": "execute_result"
    }
   ],
   "source": [
    "white.stop_outcome.value_counts(normalize=True)\n",
    "asian.stop_outcome.value_counts(normalize=True)"
   ]
  },
  {
   "cell_type": "code",
   "execution_count": 10,
   "metadata": {},
   "outputs": [
    {
     "data": {
      "text/plain": [
       "0.018"
      ]
     },
     "execution_count": 10,
     "metadata": {},
     "output_type": "execute_result"
    }
   ],
   "source": [
    "#female = police[(police.driver_gender == \"M\") & (police.is_arrested == True)]\n",
    "#female.head()\n",
    "'''take the mean: works with T and F'''\n",
    "import numpy as np\n",
    "police.contraband_found.value_counts(normalize=True)\n",
    "'''Percent true'''\n",
    "police.contraband_found.mean()"
   ]
  },
  {
   "cell_type": "code",
   "execution_count": 11,
   "metadata": {},
   "outputs": [
    {
     "data": {
      "text/plain": [
       "0.14285714285714285"
      ]
     },
     "execution_count": 11,
     "metadata": {},
     "output_type": "execute_result"
    }
   ],
   "source": [
    "police.district.unique()\n",
    "'''supposed to study the search rate by police district'''\n",
    "police[police.district=='ILLINOIS STATE POLICE 02'].search_conducted.mean()"
   ]
  },
  {
   "cell_type": "code",
   "execution_count": 12,
   "metadata": {},
   "outputs": [
    {
     "data": {
      "text/plain": [
       "'studies search rate on all police districts'"
      ]
     },
     "execution_count": 12,
     "metadata": {},
     "output_type": "execute_result"
    }
   ],
   "source": [
    "police.groupby('district').search_conducted.mean()\n",
    "'''studies search rate on all police districts'''"
   ]
  },
  {
   "cell_type": "code",
   "execution_count": 13,
   "metadata": {},
   "outputs": [
    {
     "data": {
      "text/plain": [
       "district                  driver_gender\n",
       "ILLINOIS STATE POLICE 01  F                0.000000\n",
       "                          M                0.000000\n",
       "ILLINOIS STATE POLICE 02  F                0.333333\n",
       "                          M                0.090909\n",
       "ILLINOIS STATE POLICE 03  F                0.000000\n",
       "                          M                0.160000\n",
       "ILLINOIS STATE POLICE 05  F                0.000000\n",
       "                          M                0.600000\n",
       "ILLINOIS STATE POLICE 06  F                0.166667\n",
       "                          M                0.066667\n",
       "ILLINOIS STATE POLICE 07  F                0.000000\n",
       "                          M                0.142857\n",
       "ILLINOIS STATE POLICE 08  F                0.000000\n",
       "                          M                0.096774\n",
       "ILLINOIS STATE POLICE 09  F                0.125000\n",
       "                          M                0.142857\n",
       "ILLINOIS STATE POLICE 10  F                0.000000\n",
       "                          M                0.000000\n",
       "ILLINOIS STATE POLICE 11  F                0.000000\n",
       "                          M                0.071429\n",
       "ILLINOIS STATE POLICE 12  F                0.000000\n",
       "                          M                0.052632\n",
       "ILLINOIS STATE POLICE 13  F                0.000000\n",
       "                          M                0.000000\n",
       "ILLINOIS STATE POLICE 14  F                0.000000\n",
       "ILLINOIS STATE POLICE 15  F                0.040000\n",
       "                          M                0.080645\n",
       "ILLINOIS STATE POLICE 16  F                0.000000\n",
       "                          M                0.095238\n",
       "ILLINOIS STATE POLICE 17  F                0.000000\n",
       "                          M                0.000000\n",
       "ILLINOIS STATE POLICE 18  F                0.090909\n",
       "                          M                0.047619\n",
       "ILLINOIS STATE POLICE 19  F                0.000000\n",
       "                          M                0.000000\n",
       "ILLINOIS STATE POLICE 20  F                0.000000\n",
       "                          M                0.000000\n",
       "ILLINOIS STATE POLICE 21  F                0.111111\n",
       "                          M                0.000000\n",
       "ILLINOIS STATE POLICE 22  F                0.000000\n",
       "                          M                0.000000\n",
       "Name: search_conducted, dtype: float64"
      ]
     },
     "execution_count": 13,
     "metadata": {},
     "output_type": "execute_result"
    }
   ],
   "source": [
    "'''seperates percents by group some more'''\n",
    "police.groupby(['district','driver_gender']).search_conducted.mean()"
   ]
  },
  {
   "cell_type": "code",
   "execution_count": 14,
   "metadata": {},
   "outputs": [
    {
     "data": {
      "text/plain": [
       "NaN                     468\n",
       "Incident to Arrest       30\n",
       "Consent                   1\n",
       "Reasonable Suspicion      1\n",
       "Name: search_type, dtype: int64"
      ]
     },
     "execution_count": 14,
     "metadata": {},
     "output_type": "execute_result"
    }
   ],
   "source": [
    "'''examine search types'''\n",
    "police.search_conducted.value_counts()\n",
    "police.search_type.value_counts(dropna=False)\n",
    "#NaN excluded by default"
   ]
  },
  {
   "cell_type": "code",
   "execution_count": 15,
   "metadata": {},
   "outputs": [
    {
     "data": {
      "text/plain": [
       "date_and_time\n",
       "2004-01-01 00:02:00    False\n",
       "2004-01-01 00:07:00    False\n",
       "2004-01-01 00:14:00    False\n",
       "2004-01-01 00:15:00    False\n",
       "2004-01-01 00:15:00    False\n",
       "2004-01-01 00:20:00    False\n",
       "2004-01-01 00:20:00    False\n",
       "2004-01-01 00:21:00     True\n",
       "2004-01-01 00:23:00     True\n",
       "2004-01-01 00:24:00    False\n",
       "2004-01-01 00:25:00    False\n",
       "2004-01-01 00:25:00    False\n",
       "2004-01-01 00:27:00    False\n",
       "2004-01-01 00:30:00    False\n",
       "2004-01-01 00:30:00    False\n",
       "2004-01-01 00:30:00    False\n",
       "2004-01-01 00:34:00    False\n",
       "2004-01-01 00:35:00    False\n",
       "2004-01-01 00:35:00    False\n",
       "2004-01-01 00:35:00    False\n",
       "2004-01-01 00:35:00    False\n",
       "2004-01-01 00:36:00     True\n",
       "2004-01-01 00:42:00    False\n",
       "2004-01-01 00:43:00    False\n",
       "2004-01-01 00:45:00    False\n",
       "2004-01-01 00:45:00    False\n",
       "2004-01-01 00:46:00     True\n",
       "2004-01-01 00:48:00    False\n",
       "2004-01-01 00:48:00     True\n",
       "2004-01-01 00:50:00    False\n",
       "                       ...  \n",
       "2004-01-01 16:25:00    False\n",
       "2004-01-01 16:25:00    False\n",
       "2004-01-01 16:27:00    False\n",
       "2004-01-01 16:30:00    False\n",
       "2004-01-01 16:30:00    False\n",
       "2004-01-01 16:30:00    False\n",
       "2004-01-01 16:30:00    False\n",
       "2004-01-01 16:34:00    False\n",
       "2004-01-01 16:35:00    False\n",
       "2004-01-01 16:37:00    False\n",
       "2004-01-01 16:37:00    False\n",
       "2004-01-01 16:40:00    False\n",
       "2004-01-01 16:40:00    False\n",
       "2004-01-01 16:45:00    False\n",
       "2004-01-01 16:50:00    False\n",
       "2004-01-01 16:50:00    False\n",
       "2004-01-01 16:53:00    False\n",
       "2004-01-01 16:53:00    False\n",
       "2004-01-01 16:55:00    False\n",
       "2004-01-01 17:00:00    False\n",
       "2004-01-01 17:00:00    False\n",
       "2004-01-01 17:00:00    False\n",
       "2004-01-01 17:00:00    False\n",
       "2004-01-01 17:00:00    False\n",
       "2004-01-01 17:03:00    False\n",
       "2004-01-01 17:03:00    False\n",
       "2004-01-01 17:03:00    False\n",
       "2004-01-01 17:05:00    False\n",
       "2004-01-01 17:05:00    False\n",
       "2004-01-01 17:05:00    False\n",
       "Name: Incident, Length: 500, dtype: bool"
      ]
     },
     "execution_count": 15,
     "metadata": {},
     "output_type": "execute_result"
    }
   ],
   "source": [
    "police['Incident'] = police.search_type.str.contains('Incident to Arrest',na=False)\n",
    "police['Incident']\n",
    "#na=False returns False when it finds a missing value"
   ]
  },
  {
   "cell_type": "code",
   "execution_count": 16,
   "metadata": {},
   "outputs": [
    {
     "data": {
      "text/plain": [
       "0.9090909090909091"
      ]
     },
     "execution_count": 16,
     "metadata": {},
     "output_type": "execute_result"
    }
   ],
   "source": [
    "police.Incident.mean()\n",
    "#calculates percent of all traffic stops resulting in incident to arrest\n",
    "searched = police[police.search_conducted==True]\n",
    "searched.Incident.mean()\n",
    "#percent of searches that had an incident"
   ]
  },
  {
   "cell_type": "code",
   "execution_count": 17,
   "metadata": {},
   "outputs": [
    {
     "data": {
      "text/plain": [
       "date_and_time\n",
       "2004-01-01 00:02:00    1\n",
       "2004-01-01 00:07:00    1\n",
       "2004-01-01 00:14:00    1\n",
       "2004-01-01 00:15:00    1\n",
       "2004-01-01 00:15:00    1\n",
       "2004-01-01 00:20:00    1\n",
       "2004-01-01 00:20:00    1\n",
       "2004-01-01 00:21:00    1\n",
       "2004-01-01 00:23:00    1\n",
       "2004-01-01 00:24:00    1\n",
       "2004-01-01 00:25:00    1\n",
       "2004-01-01 00:25:00    1\n",
       "2004-01-01 00:27:00    1\n",
       "2004-01-01 00:30:00    1\n",
       "2004-01-01 00:30:00    1\n",
       "2004-01-01 00:30:00    1\n",
       "2004-01-01 00:34:00    1\n",
       "2004-01-01 00:35:00    1\n",
       "2004-01-01 00:35:00    1\n",
       "2004-01-01 00:35:00    1\n",
       "2004-01-01 00:35:00    1\n",
       "2004-01-01 00:36:00    1\n",
       "2004-01-01 00:42:00    1\n",
       "2004-01-01 00:43:00    1\n",
       "2004-01-01 00:45:00    1\n",
       "2004-01-01 00:45:00    1\n",
       "2004-01-01 00:46:00    1\n",
       "2004-01-01 00:48:00    1\n",
       "2004-01-01 00:48:00    1\n",
       "2004-01-01 00:50:00    1\n",
       "                      ..\n",
       "2004-01-01 16:25:00    1\n",
       "2004-01-01 16:25:00    1\n",
       "2004-01-01 16:27:00    1\n",
       "2004-01-01 16:30:00    1\n",
       "2004-01-01 16:30:00    1\n",
       "2004-01-01 16:30:00    1\n",
       "2004-01-01 16:30:00    1\n",
       "2004-01-01 16:34:00    1\n",
       "2004-01-01 16:35:00    1\n",
       "2004-01-01 16:37:00    1\n",
       "2004-01-01 16:37:00    1\n",
       "2004-01-01 16:40:00    1\n",
       "2004-01-01 16:40:00    1\n",
       "2004-01-01 16:45:00    1\n",
       "2004-01-01 16:50:00    1\n",
       "2004-01-01 16:50:00    1\n",
       "2004-01-01 16:53:00    1\n",
       "2004-01-01 16:53:00    1\n",
       "2004-01-01 16:55:00    1\n",
       "2004-01-01 17:00:00    1\n",
       "2004-01-01 17:00:00    1\n",
       "2004-01-01 17:00:00    1\n",
       "2004-01-01 17:00:00    1\n",
       "2004-01-01 17:00:00    1\n",
       "2004-01-01 17:03:00    1\n",
       "2004-01-01 17:03:00    1\n",
       "2004-01-01 17:03:00    1\n",
       "2004-01-01 17:05:00    1\n",
       "2004-01-01 17:05:00    1\n",
       "2004-01-01 17:05:00    1\n",
       "Name: dates, Length: 500, dtype: int64"
      ]
     },
     "execution_count": 17,
     "metadata": {},
     "output_type": "execute_result"
    }
   ],
   "source": [
    "police['dates'] = pd.to_datetime(police.index)\n",
    "#gets month of each time\n",
    "police.dates.dt.month"
   ]
  },
  {
   "cell_type": "code",
   "execution_count": 18,
   "metadata": {},
   "outputs": [
    {
     "data": {
      "text/plain": [
       "<Figure size 640x480 with 1 Axes>"
      ]
     },
     "metadata": {},
     "output_type": "display_data"
    }
   ],
   "source": [
    "#monthly mean\n",
    "monthly_search = police.groupby(police.dates.dt.month).search_conducted.mean()\n",
    "import matplotlib.pyplot as plt\n",
    "monthly_search.plot()\n",
    "plt.xlabel('Month')\n",
    "plt.ylabel('Rate')\n",
    "plt.title('Monthly mean rate for Searches Conducted')\n",
    "plt.show()"
   ]
  },
  {
   "cell_type": "code",
   "execution_count": 19,
   "metadata": {},
   "outputs": [
    {
     "data": {
      "text/html": [
       "<div>\n",
       "<style scoped>\n",
       "    .dataframe tbody tr th:only-of-type {\n",
       "        vertical-align: middle;\n",
       "    }\n",
       "\n",
       "    .dataframe tbody tr th {\n",
       "        vertical-align: top;\n",
       "    }\n",
       "\n",
       "    .dataframe thead th {\n",
       "        text-align: right;\n",
       "    }\n",
       "</style>\n",
       "<table border=\"1\" class=\"dataframe\">\n",
       "  <thead>\n",
       "    <tr style=\"text-align: right;\">\n",
       "      <th></th>\n",
       "      <th>search_conducted</th>\n",
       "      <th>search_conducted</th>\n",
       "    </tr>\n",
       "    <tr>\n",
       "      <th>date_and_time</th>\n",
       "      <th></th>\n",
       "      <th></th>\n",
       "    </tr>\n",
       "  </thead>\n",
       "  <tbody>\n",
       "    <tr>\n",
       "      <th>2004-01-31</th>\n",
       "      <td>0.066</td>\n",
       "      <td>0.066</td>\n",
       "    </tr>\n",
       "  </tbody>\n",
       "</table>\n",
       "</div>"
      ],
      "text/plain": [
       "               search_conducted  search_conducted\n",
       "date_and_time                                    \n",
       "2004-01-31                0.066             0.066"
      ]
     },
     "execution_count": 19,
     "metadata": {},
     "output_type": "execute_result"
    }
   ],
   "source": [
    "#resampling to get the mean trend\n",
    "#changes frequency of time series of observations\n",
    "search = police.search_conducted.resample('M').mean()\n",
    "#concat two things\n",
    "search2 = police.search_conducted.resample('M').mean()\n",
    "pd.concat([search,search2],axis='columns')\n",
    "#subplots = True"
   ]
  },
  {
   "cell_type": "code",
   "execution_count": 30,
   "metadata": {},
   "outputs": [
    {
     "data": {
      "text/html": [
       "<div>\n",
       "<style scoped>\n",
       "    .dataframe tbody tr th:only-of-type {\n",
       "        vertical-align: middle;\n",
       "    }\n",
       "\n",
       "    .dataframe tbody tr th {\n",
       "        vertical-align: top;\n",
       "    }\n",
       "\n",
       "    .dataframe thead th {\n",
       "        text-align: right;\n",
       "    }\n",
       "</style>\n",
       "<table border=\"1\" class=\"dataframe\">\n",
       "  <thead>\n",
       "    <tr style=\"text-align: right;\">\n",
       "      <th>driver_gender</th>\n",
       "      <th>F</th>\n",
       "      <th>M</th>\n",
       "    </tr>\n",
       "    <tr>\n",
       "      <th>driver_gender</th>\n",
       "      <th></th>\n",
       "      <th></th>\n",
       "    </tr>\n",
       "  </thead>\n",
       "  <tbody>\n",
       "    <tr>\n",
       "      <th>F</th>\n",
       "      <td>153</td>\n",
       "      <td>0</td>\n",
       "    </tr>\n",
       "    <tr>\n",
       "      <th>M</th>\n",
       "      <td>0</td>\n",
       "      <td>347</td>\n",
       "    </tr>\n",
       "  </tbody>\n",
       "</table>\n",
       "</div>"
      ],
      "text/plain": [
       "driver_gender    F    M\n",
       "driver_gender          \n",
       "F              153    0\n",
       "M                0  347"
      ]
     },
     "execution_count": 30,
     "metadata": {},
     "output_type": "execute_result"
    }
   ],
   "source": [
    "#crosstab- pass in two categories, outputs frequency table\n",
    "#how many time each combination occurs in the data\n",
    "table = pd.crosstab(police.driver_gender,police.driver_gender)\n",
    "table.head()"
   ]
  },
  {
   "cell_type": "code",
   "execution_count": 31,
   "metadata": {},
   "outputs": [
    {
     "data": {
      "image/png": "[encoded data removed]",
      "text/plain": [
       "<Figure size 432x288 with 1 Axes>"
      ]
     },
     "metadata": {},
     "output_type": "display_data"
    }
   ],
   "source": [
    "table.loc['Asian':'Hispanic']\n",
    "table.plot(kind='bar', stacked=True)\n",
    "plt.show()"
   ]
  },
  {
   "cell_type": "code",
   "execution_count": 22,
   "metadata": {},
   "outputs": [
    {
     "data": {
      "image/png": "[encoded data removed]",
      "text/plain": [
       "<Figure size 432x288 with 1 Axes>"
      ]
     },
     "metadata": {},
     "output_type": "display_data"
    }
   ],
   "source": [
    "#Map one set of values to another- Map method using dict\n",
    "''''mapping = {'up':True,'down':False}\n",
    "police['test'] = police.change.map(mapping)'''\n",
    "search_rate = police.groupby('violation').search_conducted.mean()\n",
    "search_rate.sort_values().plot(kind='barh')\n",
    "plt.show()"
   ]
  },
  {
   "cell_type": "code",
   "execution_count": 23,
   "metadata": {},
   "outputs": [
    {
     "data": {
      "text/plain": [
       "\"\\nweather = pd.read_csv('weather_csv')\\nweather.head()\\n#examine wind speed\\nweather[['AWND','WSF2']].describe()\\n#min, max, other stats\\n\\n#create a box plot\\nweather.plot(kind='box')\\nplt.show\\n\\n#create a histogram\\nweather['WDIFF'] = weather.WSF2 - weather.AWND\\nweather.WDIFF.plot(kind='hist',bins=20)\\nplt.show\\n\""
      ]
     },
     "execution_count": 23,
     "metadata": {},
     "output_type": "execute_result"
    }
   ],
   "source": [
    "'''\n",
    "weather = pd.read_csv('weather_csv')\n",
    "weather.head()\n",
    "#examine wind speed\n",
    "weather[['AWND','WSF2']].describe()\n",
    "#min, max, other stats\n",
    "\n",
    "#create a box plot\n",
    "weather.plot(kind='box')\n",
    "plt.show\n",
    "\n",
    "#create a histogram\n",
    "weather['WDIFF'] = weather.WSF2 - weather.AWND\n",
    "weather.WDIFF.plot(kind='hist',bins=20)\n",
    "plt.show\n",
    "'''"
   ]
  },
  {
   "cell_type": "code",
   "execution_count": 24,
   "metadata": {},
   "outputs": [
    {
     "data": {
      "text/plain": [
       "\"\\nweather.shape\\nweather.columns\\ntemp = weather.loc[:,'TAVG':'TMAX']\\ntemp.shape\\n#sum of columns\\ntemp.sum()\\n#sum of rows\\ntemp.sum(axis='columns').head()\\n\\nri.stop_duration.unique()\\narray(['0-15 Min','16-30 Min','30+ Min'], dtype=object)\\nmapping = {'0-15 Min':'short','16-30 Min':'medium','30+ Min':'long'}\\nri['stop_length'] = ri.stop_duration.map(mapping)\\n#category type stores data more efficiently than object\\n#allows you to specify a logical order\\nri['stop_length'] = ri.stop_length.astype('category',ordered=True,categories=cats)\\n\""
      ]
     },
     "execution_count": 24,
     "metadata": {},
     "output_type": "execute_result"
    }
   ],
   "source": [
    "'''\n",
    "weather.shape\n",
    "weather.columns\n",
    "temp = weather.loc[:,'TAVG':'TMAX']\n",
    "temp.shape\n",
    "#sum of columns\n",
    "temp.sum()\n",
    "#sum of rows\n",
    "temp.sum(axis='columns').head()\n",
    "\n",
    "ri.stop_duration.unique()\n",
    "array(['0-15 Min','16-30 Min','30+ Min'], dtype=object)\n",
    "mapping = {'0-15 Min':'short','16-30 Min':'medium','30+ Min':'long'}\n",
    "ri['stop_length'] = ri.stop_duration.map(mapping)\n",
    "#category type stores data more efficiently than object\n",
    "#allows you to specify a logical order\n",
    "ri['stop_length'] = ri.stop_length.astype('category',ordered=True,categories=cats)\n",
    "'''"
   ]
  },
  {
   "cell_type": "code",
   "execution_count": 25,
   "metadata": {},
   "outputs": [
    {
     "data": {
      "text/plain": [
       "\"\\n#Merging dataframes\\n#makes index column\\napple.reset_index(inplace=True)\\napple_high = pd.merge(left=apple,right=high,left_one='date',right_on='DATE',how='left')\\n    #left=apple: Left DataFrame\\n    #right=high: Right DataFrame\\n    #left_on='date': Key column in left DataFrame\\n    #right_on='DATE': Key column in right DataFrame\\n    #how='left': Type of join\\napple_high.set_index('date_and_time',inplace=True)\\n\""
      ]
     },
     "execution_count": 25,
     "metadata": {},
     "output_type": "execute_result"
    }
   ],
   "source": [
    "'''\n",
    "#Merging dataframes\n",
    "#makes index column\n",
    "apple.reset_index(inplace=True)\n",
    "apple_high = pd.merge(left=apple,right=high,left_one='date',right_on='DATE',how='left')\n",
    "    #left=apple: Left DataFrame\n",
    "    #right=high: Right DataFrame\n",
    "    #left_on='date': Key column in left DataFrame\n",
    "    #right_on='DATE': Key column in right DataFrame\n",
    "    #how='left': Type of join\n",
    "apple_high.set_index('date_and_time',inplace=True)\n",
    "'''"
   ]
  },
  {
   "cell_type": "code",
   "execution_count": 26,
   "metadata": {},
   "outputs": [
    {
     "data": {
      "text/plain": [
       "\"\\n#How does weather affect the arrest rate?\\nri.search_conducted.mean()\\nri.groupby('driver_gender').search_conducted.mean()\\nri.groupby(['violation', 'driver_gender']).search_conducted.mean()\\nsearch_rate = ri.groupby(['violation','driver_gender']).search_conducted.mean()\\n#Panda series with multi-index!\\n#outer index is rows, inner is columns!\\nsearch_rate.loc['Equipment', 'M']\\n#Convert a multi-indexed series to a dataframe\\nsearch_rate.unstack()\\nri.pivot_table(index='violation', columns='driver_gender',\\n               values='search_conducted')\\n\""
      ]
     },
     "execution_count": 26,
     "metadata": {},
     "output_type": "execute_result"
    }
   ],
   "source": [
    "'''\n",
    "#How does weather affect the arrest rate?\n",
    "ri.search_conducted.mean()\n",
    "ri.groupby('driver_gender').search_conducted.mean()\n",
    "ri.groupby(['violation', 'driver_gender']).search_conducted.mean()\n",
    "search_rate = ri.groupby(['violation','driver_gender']).search_conducted.mean()\n",
    "#Panda series with multi-index!\n",
    "#outer index is rows, inner is columns!\n",
    "search_rate.loc['Equipment', 'M']\n",
    "#Convert a multi-indexed series to a dataframe\n",
    "search_rate.unstack()\n",
    "ri.pivot_table(index='violation', columns='driver_gender',\n",
    "               values='search_conducted')\n",
    "'''"
   ]
  },
  {
   "cell_type": "code",
   "execution_count": 27,
   "metadata": {},
   "outputs": [
    {
     "data": {
      "text/plain": [
       "\"\\n# Save the output of the groupby operation from the last exercise\\narrest_rate = ri_weather.groupby(['violation', 'rating']).is_arrested.mean()\\n\\n# Print the 'arrest_rate' Series\\nprint(arrest_rate)\\n\\n# Print the arrest rate for moving violations in bad weather\\nprint(arrest_rate.loc['Moving violation', 'bad'])\\n# Print the arrest rates for speeding violations in all three weather conditions\\nprint(print(arrest_rate.loc['Speeding']))\\n# Unstack the 'arrest_rate' Series into a DataFrame\\nprint(arrest_rate.unstack())\\n\\n# Create the same DataFrame using a pivot table\\nprint(ri_weather.pivot_table(index='violation', columns='driver_gender', values='search_conducted'))\\n\""
      ]
     },
     "execution_count": 27,
     "metadata": {},
     "output_type": "execute_result"
    }
   ],
   "source": [
    "'''\n",
    "# Save the output of the groupby operation from the last exercise\n",
    "arrest_rate = ri_weather.groupby(['violation', 'rating']).is_arrested.mean()\n",
    "\n",
    "# Print the 'arrest_rate' Series\n",
    "print(arrest_rate)\n",
    "\n",
    "# Print the arrest rate for moving violations in bad weather\n",
    "print(arrest_rate.loc['Moving violation', 'bad'])\n",
    "# Print the arrest rates for speeding violations in all three weather conditions\n",
    "print(print(arrest_rate.loc['Speeding']))\n",
    "# Unstack the 'arrest_rate' Series into a DataFrame\n",
    "print(arrest_rate.unstack())\n",
    "\n",
    "# Create the same DataFrame using a pivot table\n",
    "print(ri_weather.pivot_table(index='violation', columns='driver_gender', values='search_conducted'))\n",
    "'''"
   ]
  }
 ],
 "metadata": {
  "kernelspec": {
   "display_name": "Python 3",
   "language": "python",
   "name": "python3"
  },
  "language_info": {
   "codemirror_mode": {
    "name": "ipython",
    "version": 3
   },
   "file_extension": ".py",
   "mimetype": "text/x-python",
   "name": "python",
   "nbconvert_exporter": "python",
   "pygments_lexer": "ipython3",
   "version": "3.6.5"
  }
 },
 "nbformat": 4,
 "nbformat_minor": 2
}
