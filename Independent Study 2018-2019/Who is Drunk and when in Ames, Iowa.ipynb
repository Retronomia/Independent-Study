{
 "cells": [
  {
   "cell_type": "markdown",
   "metadata": {},
   "source": [
    "## Who is Drunk and when in Ames, Iowa?\n",
    "Source: https://www.datacamp.com/projects/475"
   ]
  },
  {
   "cell_type": "markdown",
   "metadata": {
    "dc": {
     "key": "3"
    },
    "deletable": false,
    "editable": false,
    "run_control": {
     "frozen": true
    },
    "tags": [
     "context"
    ]
   },
   "source": [
    "## 1. Breath alcohol tests in Ames, Iowa, USA\n",
    "<p>Ames, Iowa, USA is the home of Iowa State University, a land grant university with over 36,000 students. By comparison, the city of Ames, Iowa, itself only has about 65,000 residents. As with any other college town, Ames has had its fair share of alcohol-related incidents. (For example, Google 'VEISHEA riots 2014'.) We will take a look at some breath alcohol test data from Ames that is published by the State of Iowa.</p>\n",
    "<p><img style=\"width:500px\" src=\"https://s3.amazonaws.com/assets.datacamp.com/production/project_208/img/usa.jpg\"> </p>\n",
    "<p>The data file 'breath_alcohol_ames.csv' contains 1,556 readings from breath alcohol tests administered by the Ames and Iowa State University Police Departments from January 2013 to December 2017. The columns in this data set are year, month, day, hour, location, gender, Res1, Res2.</p>"
   ]
  },
  {
   "cell_type": "code",
   "execution_count": 1,
   "metadata": {
    "dc": {
     "key": "3"
    },
    "tags": [
     "sample_code"
    ]
   },
   "outputs": [
    {
     "name": "stdout",
     "output_type": "stream",
     "text": [
      "      year  month  day  hour location gender   Res1   Res2\n",
      "0     2017     12   17     1  Ames PD      M  0.046  0.046\n",
      "1     2017     12   14     3   ISU PD      F  0.121  0.120\n",
      "2     2017     12   10     5   ISU PD      F  0.068  0.067\n",
      "3     2017     12   10     3   ISU PD      F  0.077  0.077\n",
      "4     2017     12    9     2   ISU PD      M  0.085  0.084\n",
      "5     2017     12    9     1  Ames PD      M  0.160  0.161\n",
      "6     2017     12    7     3  Ames PD      M  0.131  0.131\n",
      "7     2017     12    4     1   ISU PD      M  0.000  0.000\n",
      "8     2017     12    3     1  Ames PD      M  0.091  0.090\n",
      "9     2017     12    3     0  Ames PD      M  0.095  0.095\n",
      "10    2017     12    2     1  Ames PD      M  0.155  0.155\n",
      "11    2017     11   29     3   ISU PD      F  0.171  0.171\n",
      "12    2017     11   21     3   ISU PD      F  0.050  0.051\n",
      "13    2017     11   17    18   ISU PD      M  0.176  0.176\n",
      "14    2017     11   11     3  Ames PD      M  0.072  0.072\n",
      "15    2017     11   11     2   ISU PD      M  0.094  0.093\n",
      "16    2017     11   11     2   ISU PD      F  0.106  0.106\n",
      "17    2017     11   10     3   ISU PD      M  0.145  0.144\n",
      "18    2017     11    9     2  Ames PD      F  0.148  0.148\n",
      "19    2017     11    8     3   ISU PD      F  0.110  0.110\n",
      "20    2017     11    6    19  Ames PD      F  0.000  0.000\n",
      "21    2017     11    5     2   ISU PD      M  0.155  0.155\n",
      "22    2017     11    5     0  Ames PD      M  0.114  0.113\n",
      "23    2017     11    4     3  Ames PD      M  0.107  0.107\n",
      "24    2017     11    3     3   ISU PD      M  0.000  0.000\n",
      "25    2017     11    2     2  Ames PD      M  0.000  0.000\n",
      "26    2017     10   29     5  Ames PD      F  0.164  0.164\n",
      "27    2017     10   29     4   ISU PD      M  0.101  0.101\n",
      "28    2017     10   29     4  Ames PD      M  0.116  0.116\n",
      "29    2017     10   29     3   ISU PD      F  0.100  0.099\n",
      "...    ...    ...  ...   ...      ...    ...    ...    ...\n",
      "1526  2013      1   26     1  Ames PD      M  0.099  0.098\n",
      "1527  2013      1   25     1   ISU PD      M  0.094  0.094\n",
      "1528  2013      1   22    22   ISU PD      M  0.000  0.000\n",
      "1529  2013      1   21     3   ISU PD      M  0.059  0.058\n",
      "1530  2013      1   20     4   ISU PD      M  0.159  0.158\n",
      "1531  2013      1   20     2  Ames PD      F  0.195  0.194\n",
      "1532  2013      1   20     2  Ames PD      M  0.155  0.155\n",
      "1533  2013      1   20     1   ISU PD      M  0.140  0.139\n",
      "1534  2013      1   19     3  Ames PD      F  0.129  0.128\n",
      "1535  2013      1   18     4   ISU PD      M  0.111  0.110\n",
      "1536  2013      1   18     3   ISU PD      M  0.089  0.090\n",
      "1537  2013      1   15     2   ISU PD      M  0.141  0.140\n",
      "1538  2013      1   13     3   ISU PD      F  0.028  0.028\n",
      "1539  2013      1   13     2  Ames PD      F  0.130  0.128\n",
      "1540  2013      1   13     2  Ames PD      M  0.209  0.209\n",
      "1541  2013      1   13     1  Ames PD      M  0.239  0.237\n",
      "1542  2013      1   13     1  Ames PD      F  0.118  0.117\n",
      "1543  2013      1   12     4   ISU PD      M  0.144  0.144\n",
      "1544  2013      1   12     2   ISU PD      M  0.125  0.125\n",
      "1545  2013      1   12     1   ISU PD      M  0.055  0.055\n",
      "1546  2013      1   11     4  Ames PD      M  0.181  0.182\n",
      "1547  2013      1    9     3  Ames PD      M  0.000  0.000\n",
      "1548  2013      1    9     3   ISU PD      F  0.134  0.133\n",
      "1549  2013      1    9     3   ISU PD      F  0.000  0.000\n",
      "1550  2013      1    6     1   ISU PD      F  0.085  0.085\n",
      "1551  2013      1    5    23  Ames PD      M  0.182  0.181\n",
      "1552  2013      1    4     2   ISU PD      M  0.066  0.065\n",
      "1553  2013      1    1     3  Ames PD      M  0.090  0.090\n",
      "1554  2013      1    1     2   ISU PD      F  0.132  0.131\n",
      "1555  2013      1    1     0   ISU PD      M  0.130  0.130\n",
      "\n",
      "[1556 rows x 8 columns]\n"
     ]
    },
    {
     "data": {
      "text/plain": [
       "2013    397\n",
       "2014    344\n",
       "2015    286\n",
       "2016    269\n",
       "2017    260\n",
       "Name: year, dtype: int64"
      ]
     },
     "execution_count": 1,
     "metadata": {},
     "output_type": "execute_result"
    }
   ],
   "source": [
    "# import pandas\n",
    "import pandas as pd\n",
    "# ... YOUR CODE FOR TASK 1 ...\n",
    "\n",
    "# read the data into your workspace\n",
    "ba_data = pd.read_csv('datasets/breath_alcohol_ames.csv')\n",
    "\n",
    "# quickly inspect the data\n",
    "print(ba_data)\n",
    "\n",
    "# obtain counts for each year \n",
    "ba_year = ba_data['year'].value_counts()\n",
    "ba_year"
   ]
  },
  {
   "cell_type": "code",
   "execution_count": 2,
   "metadata": {
    "dc": {
     "key": "3"
    },
    "hide": true,
    "tags": [
     "tests"
    ]
   },
   "outputs": [
    {
     "name": "stderr",
     "output_type": "stream",
     "text": [
      "UsageError: Cell magic `%%nose` not found.\n"
     ]
    }
   ],
   "source": [
    "%%nose\n",
    "\n",
    "import pandas as pd\n",
    "\n",
    "# # check read file\n",
    "# def test_breath_alcohol_ames():\n",
    "#     correct_pulls = pd.read_csv(\"datasets/breath_alcohol_ames.csv\")\n",
    "#     assert correct_pulls.equals(breath_alcohol_ames), \\\n",
    "#     'Read in \"datasets/breath_alcohol_ames.csv\" using read_csv().'\n",
    "\n",
    "# # check head\n",
    "\n",
    "# # check value counts    \n",
    "# def test_value_counts():\n",
    "#     assert len(ba_year) == 5, \\\n",
    "#     'The rows are not arraged by year. Did you select the correct value to count?'\n",
    "\n",
    "def test_task_1a():\n",
    "    correct_ba_data = pd.read_csv(\"datasets/breath_alcohol_ames.csv\")\n",
    "    assert correct_ba_data.equals(ba_data), \"The variable `ba_data` should contain the data in `breath_alcohol_ames.csv`\"\n",
    "    \n",
    "def test_task_1b():\n",
    "    correct_ba_year = ba_data['year'].value_counts()\n",
    "    assert correct_ba_year.equals(ba_year), \"The variable `ba_year` should contain the counts of years in `ba_data`. Did you use the `value_counts` method?\""
   ]
  },
  {
   "cell_type": "markdown",
   "metadata": {
    "dc": {
     "key": "10"
    },
    "deletable": false,
    "editable": false,
    "run_control": {
     "frozen": true
    },
    "tags": [
     "context"
    ]
   },
   "source": [
    "## 2. What is the busiest police department in Ames?\n",
    "<p>There are two police departments in the data set: the Iowa State University Police Department and the Ames Police Department. Which one administers more breathalyzer tests? </p>"
   ]
  },
  {
   "cell_type": "code",
   "execution_count": null,
   "metadata": {
    "dc": {
     "key": "10"
    },
    "tags": [
     "sample_code"
    ]
   },
   "outputs": [],
   "source": [
    "# use value_counts to tally up the totals for each department\n",
    "pds = ba_data['location'].value_counts()\n",
    "pds"
   ]
  },
  {
   "cell_type": "code",
   "execution_count": null,
   "metadata": {
    "dc": {
     "key": "10"
    },
    "hide": true,
    "tags": [
     "tests"
    ]
   },
   "outputs": [],
   "source": [
    "%%nose\n",
    "\n",
    "# # check value counts    \n",
    "# def test_value_counts():\n",
    "#     assert len(ba_year) == 2, \\\n",
    "#     'The rows are not arraged by location. Did you select the correct value to count?'\n",
    "\n",
    "def test_task_2():\n",
    "    correct_pds = ba_data['location'].value_counts()\n",
    "    assert correct_pds.equals(pds), \"The variable `pds` should contain the counts of locations in `ba_data`. Did you use the `value_counts` method?\""
   ]
  },
  {
   "cell_type": "markdown",
   "metadata": {
    "dc": {
     "key": "18"
    },
    "deletable": false,
    "editable": false,
    "run_control": {
     "frozen": true
    },
    "tags": [
     "context"
    ]
   },
   "source": [
    "## 3. Nothing Good Happens after 2am\n",
    "<p><img src=\"https://s3.amazonaws.com/assets.datacamp.com/production/project_208/img/himym02.jpg\" style=\"float: left;margin:5px 20px 5px 1px;width:300px\"></p>\n",
    "<p>We all know that \"nothing good happens after 2am.\" Thus, there are inevitably some times of the day when breath alcohol tests, especially in a college town like Ames, are most and least common. Which hours of the day have the most and least breathalyzer tests?  </p>"
   ]
  },
  {
   "cell_type": "code",
   "execution_count": null,
   "metadata": {
    "dc": {
     "key": "18"
    },
    "tags": [
     "sample_code"
    ]
   },
   "outputs": [],
   "source": [
    "%matplotlib inline\n",
    "\n",
    "# count by hour \n",
    "hourly = ba_data.groupby(['hour']).size()\n",
    "\n",
    "# create a vertical bar graph of the arrest count by hour\n",
    "hourly.plot.bar(x=ba_year)"
   ]
  },
  {
   "cell_type": "code",
   "execution_count": null,
   "metadata": {
    "dc": {
     "key": "18"
    },
    "hide": true,
    "tags": [
     "tests"
    ]
   },
   "outputs": [],
   "source": [
    "%%nose\n",
    "\n",
    "# groupby, count, and sort values\n",
    "# check counts    \n",
    "def test_sort_values():\n",
    "    assert len(hourly) == 24, \\\n",
    "    'The rows are not arranged by hour. Did you select \"hour\" to group by?'\n",
    "    \n",
    "# no test for plots"
   ]
  },
  {
   "cell_type": "markdown",
   "metadata": {
    "dc": {
     "key": "25"
    },
    "deletable": false,
    "editable": false,
    "run_control": {
     "frozen": true
    },
    "tags": [
     "context"
    ]
   },
   "source": [
    "## 4. Breathalyzer tests by month\n",
    "<p>Now that we have discovered which time of day is most common for breath alcohol tests, we will determine which time of the year has the most breathalyzer tests. Which month will have the most recorded tests?</p>"
   ]
  },
  {
   "cell_type": "code",
   "execution_count": null,
   "metadata": {
    "dc": {
     "key": "25"
    },
    "tags": [
     "sample_code"
    ]
   },
   "outputs": [],
   "source": [
    "# count by month and arrange by descending frequency\n",
    "monthly = ba_data.groupby('month').size().sort_values(ascending=False)\n",
    "# use plot.bar to make the appropriate bar chart\n",
    "monthly.plot.bar(x='month')"
   ]
  },
  {
   "cell_type": "code",
   "execution_count": null,
   "metadata": {
    "dc": {
     "key": "25"
    },
    "hide": true,
    "tags": [
     "tests"
    ]
   },
   "outputs": [],
   "source": [
    "%%nose\n",
    "\n",
    "# groupby, count, and sort values\n",
    "# check counts    \n",
    "def test_sort_values():\n",
    "    assert len(monthly) == 12, \\\n",
    "    'The rows are not arranged by month. Did you select \"month\" to group by?'\n",
    "    "
   ]
  },
  {
   "cell_type": "markdown",
   "metadata": {
    "dc": {
     "key": "32"
    },
    "deletable": false,
    "editable": false,
    "run_control": {
     "frozen": true
    },
    "tags": [
     "context"
    ]
   },
   "source": [
    "## 5. COLLEGE\n",
    "<p><img src=\"https://s3.amazonaws.com/assets.datacamp.com/production/project_208/img/PF2081John-Belushi-College-Posters.jpg\" style=\"float: left;margin:5px 20px 5px 1px\"> </p>\n",
    "<p>When we think of (binge) drinking in college towns in America, we usually think of something like this image at the left. And so, one might suspect that breath alcohol tests are given to men more often than women and that men drink more than women. </p>"
   ]
  },
  {
   "cell_type": "code",
   "execution_count": null,
   "metadata": {
    "dc": {
     "key": "32"
    },
    "tags": [
     "sample_code"
    ]
   },
   "outputs": [],
   "source": [
    "# count by gender\n",
    "counts_gender = ba_data['gender'].value_counts()\n",
    "\n",
    "# create a dataset with no NAs in gender \n",
    "gen = ba_data.dropna(subset=['gender'])\n",
    "\n",
    "# create a mean test result variable\n",
    "mean_bas = gen.assign(meanRes=(gen.Res1 + gen.Res2)/2)\n",
    "# create side-by-side boxplots to compare the mean blood alcohol levels of men and women\n",
    "mean_bas.boxplot(['meanRes'], by = 'gender')"
   ]
  },
  {
   "cell_type": "code",
   "execution_count": null,
   "metadata": {
    "dc": {
     "key": "32"
    },
    "hide": true,
    "tags": [
     "tests"
    ]
   },
   "outputs": [],
   "source": [
    "%%nose\n",
    "\n",
    "# gender value_counts\n",
    "def test_task_5b():\n",
    "    correct_counts_gender = ba_data['gender'].value_counts()\n",
    "    assert correct_counts_gender.equals(counts_gender), \\\n",
    "    \"The variable `counts_gender` should contain the counts of gender in `ba_data`. Did you use the `value_counts` method?\"\n",
    "\n",
    "# dropna\n",
    "def test_dropna():\n",
    "    assert len(gen) == 1527, \\\n",
    "    'Did you use dropna() on `gender`?'\n",
    "    \n",
    "# create meanRes in mean_bas\n",
    "def test_month_year_column():\n",
    "    assert 'meanRes' in mean_bas, \\\n",
    "    \"Did you create the `meanRes` column.\"\n",
    "    \n",
    "# no test for plots"
   ]
  },
  {
   "cell_type": "markdown",
   "metadata": {
    "dc": {
     "key": "39"
    },
    "deletable": false,
    "editable": false,
    "run_control": {
     "frozen": true
    },
    "tags": [
     "context"
    ]
   },
   "source": [
    "## 6. Above the legal limit\n",
    "<p>In the USA, it is illegal to drive with a blood alcohol concentration (BAC) above 0.08%. This is the case for <a href=\"https://www.dmv.org/automotive-law/dui.php\">all 50 states</a>. Assuming everyone tested in our data was driving (though we have no way of knowing this from the data), if either of the results (<code>Res1</code>, <code>Res2</code>) are above 0.08, the person would be charged with DUI (driving under the influence). </p>"
   ]
  },
  {
   "cell_type": "code",
   "execution_count": null,
   "metadata": {
    "dc": {
     "key": "39"
    },
    "tags": [
     "sample_code"
    ]
   },
   "outputs": [],
   "source": [
    "# Filter the data\n",
    "duis = ba_data[(ba_data['Res1'] > 0.08) | (ba_data['Res2'] > 0.08)]\n",
    "\n",
    "# proportion of tests that would have resulted in a DUI\n",
    "p_dui = duis.shape[0] / ba_data.shape[0]\n",
    "p_dui"
   ]
  },
  {
   "cell_type": "code",
   "execution_count": null,
   "metadata": {
    "dc": {
     "key": "39"
    },
    "hide": true,
    "tags": [
     "tests"
    ]
   },
   "outputs": [],
   "source": [
    "%%nose\n",
    "\n",
    "# check filter    \n",
    "def test_duis():\n",
    "    assert len(duis) == 1159, \\\n",
    "    'Did you use the logical OR operator (|) to filter ba_data?'\n",
    "    \n",
    "# check p_dui\n",
    "def test_p_dui():\n",
    "    correct_p_dui = duis.shape[0] / ba_data.shape[0]\n",
    "    assert correct_p_dui == p_dui"
   ]
  },
  {
   "cell_type": "markdown",
   "metadata": {
    "dc": {
     "key": "46"
    },
    "deletable": false,
    "editable": false,
    "run_control": {
     "frozen": true
    },
    "tags": [
     "context"
    ]
   },
   "source": [
    "## 7. Breathalyzer tests: is there a pattern over time?\n",
    "<p>We previously saw that 2am is the most common time of day for breathalyzer tests to be administered, and August is the most common month of the year for breathalyzer tests. Now, we look at the weeks in the year over time. </p>"
   ]
  },
  {
   "cell_type": "code",
   "execution_count": null,
   "metadata": {
    "dc": {
     "key": "46"
    },
    "tags": [
     "sample_code"
    ]
   },
   "outputs": [],
   "source": [
    "# Create date variable\n",
    "ba_data['date'] = pd.to_datetime(ba_data[['year', 'month', 'day']])\n",
    "\n",
    "# Create a week variable\n",
    "ba_data['week'] = ba_data['date'].dt.week\n",
    "\n",
    "# Check your work\n",
    "ba_data.head()"
   ]
  },
  {
   "cell_type": "code",
   "execution_count": null,
   "metadata": {
    "dc": {
     "key": "46"
    },
    "hide": true,
    "tags": [
     "tests"
    ]
   },
   "outputs": [],
   "source": [
    "%%nose\n",
    "\n",
    "# create date var    \n",
    "def test_date():\n",
    "    assert 'date' in ba_data, \\\n",
    "    \"You did not create the variable for date.\"\n",
    "    \n",
    "# create week var\n",
    "def test_week():\n",
    "    assert 'week' in ba_data, \\\n",
    "    \"You did not create the variable for week.\"    "
   ]
  },
  {
   "cell_type": "markdown",
   "metadata": {
    "dc": {
     "key": "53"
    },
    "deletable": false,
    "editable": false,
    "run_control": {
     "frozen": true
    },
    "tags": [
     "context"
    ]
   },
   "source": [
    "## 8. Looking at timelines\n",
    "<p>How do the weeks differ over time? One of the most common data visualizations is the time series, a line tracking the changes in a variable over time. We will use the new <code>week</code> variable to look at test frequency over time. We end with a time series plot showing the frequency of breathalyzer tests by week in year, with one line for each year. </p>"
   ]
  },
  {
   "cell_type": "code",
   "execution_count": null,
   "metadata": {
    "dc": {
     "key": "53"
    },
    "tags": [
     "sample_code"
    ]
   },
   "outputs": [],
   "source": [
    "# choose and count the variables of interest  \n",
    "timeline = ba_data.groupby(['week','year']).count()['Res1']\n",
    "# unstack and plot\n",
    "timeline.unstack().plot(title='VEISHEA DUIs', legend=True)"
   ]
  },
  {
   "cell_type": "code",
   "execution_count": null,
   "metadata": {
    "dc": {
     "key": "53"
    },
    "hide": true,
    "tags": [
     "tests"
    ]
   },
   "outputs": [],
   "source": [
    "%%nose\n",
    "\n",
    "# check timeline  \n",
    "def test_timeline():\n",
    "    assert len(timeline) == 259, \\\n",
    "    'Did you group by week and year?'\n",
    "    \n",
    "# plot"
   ]
  },
  {
   "cell_type": "markdown",
   "metadata": {
    "dc": {
     "key": "60"
    },
    "deletable": false,
    "editable": false,
    "run_control": {
     "frozen": true
    },
    "tags": [
     "context"
    ]
   },
   "source": [
    "## 9. The end of VEISHEA\n",
    "<p>From <a href=\"https://en.wikipedia.org/wiki/VEISHEA\">Wikipedia</a>: \n",
    "\"VEISHEA was an annual week-long celebration held each spring on the campus of Iowa State University in Ames, Iowa. The celebration featured an annual parade and many open-house demonstrations of the university facilities and departments. Campus organizations exhibited products, technologies, and held fundraisers for various charity groups. In addition, VEISHEA brought speakers, lecturers, and entertainers to Iowa State. [...] VEISHEA was the largest student-run festival in the nation, bringing in tens of thousands of visitors to the campus each year.\"</p>\n",
    "<p>This over 90-year tradition in Ames was <a href=\"https://www.news.iastate.edu/news/2014/08/07/veisheaend\">terminated permanently</a> after <a href=\"https://www.desmoinesregister.com/story/news/crime-and-courts/2014/04/09/veishea-ames-car-tipping/7495935/\">riots in 2014</a>, where drunk celebrators flipped over multiple vehicles and tore light poles down. This was not the first incidence of violence and severe property damage in VEISHEA's history. Did former President Leath make the right decision by canceling VEISHEA?</p>"
   ]
  },
  {
   "cell_type": "code",
   "execution_count": null,
   "metadata": {
    "dc": {
     "key": "60"
    },
    "tags": [
     "sample_code"
    ]
   },
   "outputs": [],
   "source": [
    "## Was it right to permanently cancel VEISHEA? TRUE or FALSE?  \n",
    "canceling_VEISHEA_was_right = True"
   ]
  },
  {
   "cell_type": "code",
   "execution_count": null,
   "metadata": {
    "dc": {
     "key": "60"
    },
    "hide": true,
    "tags": [
     "tests"
    ]
   },
   "outputs": [],
   "source": [
    "%%nose\n",
    "\n",
    "def test_bool():\n",
    "    assert isinstance(canceling_VEISHEA_was_right, bool), \"Did you assign `True` or `False` to `canceling_VEISHEA_was_right`?\"\n",
    "\n",
    "## The original R version did not have a test regarding opinion.\n",
    "# def test_opinion():\n",
    "#     assert canceling_VEISHEA_was_right == 'False', \\\n",
    "#     'The previous year, 2013, had peak DUIs around week 30, and August has the highest amounts of DUIs per month. VEISHEA was held in April.'"
   ]
  }
 ],
 "metadata": {
  "kernelspec": {
   "display_name": "Python 3",
   "language": "python",
   "name": "python3"
  },
  "language_info": {
   "codemirror_mode": {
    "name": "ipython",
    "version": 3
   },
   "file_extension": ".py",
   "mimetype": "text/x-python",
   "name": "python",
   "nbconvert_exporter": "python",
   "pygments_lexer": "ipython3",
   "version": "3.6.5"
  }
 },
 "nbformat": 4,
 "nbformat_minor": 2
}
